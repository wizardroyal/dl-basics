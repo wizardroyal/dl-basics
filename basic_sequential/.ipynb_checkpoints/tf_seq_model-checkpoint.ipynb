{
 "cells": [
  {
   "cell_type": "code",
   "execution_count": 1,
   "id": "f885ed01",
   "metadata": {},
   "outputs": [],
   "source": [
    "import numpy as np\n",
    "import tensorflow as tf\n",
    "from tensorflow import keras\n",
    "from tensorflow.keras import layers\n",
    "import matplotlib.pyplot as plt"
   ]
  },
  {
   "cell_type": "code",
   "execution_count": 2,
   "id": "3b08a748",
   "metadata": {},
   "outputs": [],
   "source": [
    "def model_architecture(nn_archi, hl_activation=\"relu\", ol_activation=\"softmax\"):\n",
    "    \"\"\"\n",
    "    Defines the architecture of an nn-model given the intended no of layers and nodes\n",
    "    Arguments: \n",
    "        nn_archi: list of the number of nodes for each layer of the neural network\n",
    "        hl_activation: the activation of the hidden layers\n",
    "        ol_activation: the activation of the output layer\n",
    "    Returns: a sequential nn-model, with architecture defined by nn-archi\n",
    "    \"\"\"\n",
    "    L = len(nn_archi)  #no of layers including the input layer\n",
    "    \n",
    "    model = keras.Sequential()\n",
    "    for l in range(0, L):\n",
    "        if l == 0:\n",
    "            model.add(keras.Input(shape=(nn_archi[0],)))\n",
    "        elif l in range(1, L-1):\n",
    "            model.add(layers.Dense(nn_archi[l], hl_activation))\n",
    "        elif l == L-1:\n",
    "            model.add(layers.Dense(nn_archi[l], ol_activation))\n",
    "    return model"
   ]
  },
  {
   "cell_type": "code",
   "execution_count": 3,
   "id": "2f8fe075",
   "metadata": {},
   "outputs": [],
   "source": [
    "def compile_model(model, optimizer=keras.optimizers.RMSprop(learning_rate=1e-3), \n",
    "                  loss=keras.losses.SparseCategoricalCrossentropy(), \n",
    "                  metrics=[keras.metrics.SparseCategoricalAccuracy()]):\n",
    "    \"\"\"\n",
    "    Compiles the model, with specified loss, optimizer and tracking metrics\n",
    "    Arguments:\n",
    "        model: the specified nn-model\n",
    "        optimizer: the optimization function to be used in training the parameters\n",
    "        loss: the loss function to be computed\n",
    "        metrics: a list of metrics to keep track of\n",
    "    Returns: the compiled model\n",
    "    \"\"\"\n",
    "    model.compile(optimizer, loss, metrics)\n",
    "    \n",
    "    return model"
   ]
  },
  {
   "cell_type": "code",
   "execution_count": 18,
   "id": "1d74c1dc",
   "metadata": {},
   "outputs": [],
   "source": [
    "def predict_new(model, x_new, y_new):\n",
    "    \"\"\"\n",
    "    uses the model to predict accuracy of some new test data\n",
    "    Arguments: x_new: numpy array of test data, y_new: numpy array of new test data labels\n",
    "    Returns: array of predicted labels of test data\n",
    "    \"\"\"\n",
    "    x_pred = model.predict(x_new)\n",
    "    data_no = x_pred.shape[0]    #no of test data\n",
    "    predictions = []\n",
    "    for i in range(data_no):\n",
    "        x_pred_i = np.argmax(x_pred[i])\n",
    "#         predictions.append(pred_num(x_pred_i))\n",
    "        if x_pred_i == y_new[i]:\n",
    "            predictions.append(pred_num(x_pred_i) + \"-- correct prediction\")\n",
    "        elif x_pred_i != y_new[i]:\n",
    "            predictions.append(pred_num(x_pred_i) + \"-- wrong prediction\")\n",
    "    return predictions"
   ]
  },
  {
   "cell_type": "code",
   "execution_count": 5,
   "id": "32b15025",
   "metadata": {},
   "outputs": [],
   "source": [
    "def pred_num(x_pred_i):\n",
    "    match x_pred_i:\n",
    "        case 9: return \"Number 9\"\n",
    "        case 8: return \"Number 8\"\n",
    "        case 7: return \"Number 7\"\n",
    "        case 6: return \"Number 6\"\n",
    "        case 5: return \"Number 5\"\n",
    "        case 4: return \"Number 4\"\n",
    "        case 3: return \"Number 3\"\n",
    "        case 2: return \"Number 2\"\n",
    "        case 1: return \"Number 1\"\n",
    "        case 0: return \"Number 0\""
   ]
  },
  {
   "cell_type": "code",
   "execution_count": 6,
   "id": "e71af5c7",
   "metadata": {},
   "outputs": [],
   "source": [
    "def show_img(x_test):\n",
    "    \"\"\"\n",
    "    shows the test data as images\n",
    "    Arguments: x_test: test data as numpy arrays\n",
    "    Returns: plots the data as images\n",
    "    \"\"\"\n",
    "    x_img = x_test.reshape(-1, 28, 28)\n",
    "    fig = plt.figure()\n",
    "    for i in range(x_img.shape[0]):\n",
    "        ax = fig.add_subplot(5,5,i+1)\n",
    "        plt.imshow(x_img[i])"
   ]
  },
  {
   "cell_type": "code",
   "execution_count": 7,
   "id": "0bcaebbd",
   "metadata": {},
   "outputs": [],
   "source": [
    "(x_train, y_train), (x_test, y_test) = keras.datasets.mnist.load_data()"
   ]
  },
  {
   "cell_type": "code",
   "execution_count": 8,
   "id": "4a66e1a2",
   "metadata": {},
   "outputs": [],
   "source": [
    "x_train = x_train.reshape(60000, 784).astype(\"float32\") / 255\n",
    "x_test = x_test.reshape(10000, 784).astype(\"float32\") / 255\n",
    "\n",
    "y_train = y_train.astype(\"float32\")\n",
    "y_test = y_test.astype(\"float32\")"
   ]
  },
  {
   "cell_type": "code",
   "execution_count": 9,
   "id": "6e468841",
   "metadata": {},
   "outputs": [],
   "source": [
    "nn_archi = [x_train.shape[1], 50, 10]"
   ]
  },
  {
   "cell_type": "code",
   "execution_count": 10,
   "id": "be040c49",
   "metadata": {},
   "outputs": [],
   "source": [
    "model = model_architecture(nn_archi, hl_activation=\"relu\", ol_activation=\"softmax\")"
   ]
  },
  {
   "cell_type": "code",
   "execution_count": 11,
   "id": "47329c36",
   "metadata": {},
   "outputs": [],
   "source": [
    "model.compile(\n",
    "    optimizer=keras.optimizers.RMSprop(learning_rate=1e-3),\n",
    "    loss=keras.losses.SparseCategoricalCrossentropy(),\n",
    "    metrics=[keras.metrics.SparseCategoricalAccuracy()],\n",
    ")"
   ]
  },
  {
   "cell_type": "code",
   "execution_count": 12,
   "id": "f021f8e8",
   "metadata": {},
   "outputs": [
    {
     "name": "stdout",
     "output_type": "stream",
     "text": [
      "Epoch 1/2\n",
      "1500/1500 [==============================] - 5s 3ms/step - loss: 0.3325 - sparse_categorical_accuracy: 0.9070 - val_loss: 0.2032 - val_sparse_categorical_accuracy: 0.9432\n",
      "Epoch 2/2\n",
      "1500/1500 [==============================] - 4s 3ms/step - loss: 0.1784 - sparse_categorical_accuracy: 0.9478 - val_loss: 0.1567 - val_sparse_categorical_accuracy: 0.9550\n"
     ]
    }
   ],
   "source": [
    "history = model.fit(x_train, y_train, batch_size=32, validation_split=0.2, epochs=2)"
   ]
  },
  {
   "cell_type": "code",
   "execution_count": 13,
   "id": "cecea5fc",
   "metadata": {},
   "outputs": [
    {
     "data": {
      "text/plain": [
       "{'loss': [0.33254295587539673, 0.17843805253505707],\n",
       " 'sparse_categorical_accuracy': [0.9069583415985107, 0.9477708339691162],\n",
       " 'val_loss': [0.20317813754081726, 0.15674015879631042],\n",
       " 'val_sparse_categorical_accuracy': [0.9431666731834412, 0.9549999833106995]}"
      ]
     },
     "execution_count": 13,
     "metadata": {},
     "output_type": "execute_result"
    }
   ],
   "source": [
    "history.history"
   ]
  },
  {
   "cell_type": "code",
   "execution_count": 14,
   "id": "332a0fbf",
   "metadata": {},
   "outputs": [
    {
     "name": "stdout",
     "output_type": "stream",
     "text": [
      "157/157 [==============================] - 0s 2ms/step - loss: 0.1589 - sparse_categorical_accuracy: 0.9547\n"
     ]
    }
   ],
   "source": [
    "result = model.evaluate(x_test, y_test, batch_size=64)"
   ]
  },
  {
   "cell_type": "code",
   "execution_count": 15,
   "id": "d11c348b",
   "metadata": {},
   "outputs": [
    {
     "name": "stdout",
     "output_type": "stream",
     "text": [
      "test loss, test accuracy = [0.15891174972057343, 0.9546999931335449]\n"
     ]
    }
   ],
   "source": [
    "print(\"test loss, test accuracy = \"+ str(result))"
   ]
  },
  {
   "cell_type": "code",
   "execution_count": 20,
   "id": "19196246",
   "metadata": {},
   "outputs": [
    {
     "name": "stdout",
     "output_type": "stream",
     "text": [
      "1/1 [==============================] - 0s 25ms/step\n"
     ]
    }
   ],
   "source": [
    "x_out = predict_new(model, x_test[5:15], y_test[5:15])"
   ]
  },
  {
   "cell_type": "code",
   "execution_count": 21,
   "id": "8e7471b8",
   "metadata": {},
   "outputs": [
    {
     "data": {
      "text/plain": [
       "['Number 1-- correct prediction',\n",
       " 'Number 4-- correct prediction',\n",
       " 'Number 9-- correct prediction',\n",
       " 'Number 6-- wrong prediction',\n",
       " 'Number 9-- correct prediction',\n",
       " 'Number 0-- correct prediction',\n",
       " 'Number 6-- correct prediction',\n",
       " 'Number 9-- correct prediction',\n",
       " 'Number 0-- correct prediction',\n",
       " 'Number 1-- correct prediction']"
      ]
     },
     "execution_count": 21,
     "metadata": {},
     "output_type": "execute_result"
    },
    {
     "data": {
      "image/png": "[encoded data removed]",
      "text/plain": [
       "<Figure size 640x480 with 10 Axes>"
      ]
     },
     "metadata": {},
     "output_type": "display_data"
    }
   ],
   "source": [
    "show_img(x_test[5:15])\n",
    "x_out"
   ]
  },
  {
   "cell_type": "code",
   "execution_count": null,
   "id": "39fbcd9f",
   "metadata": {},
   "outputs": [],
   "source": []
  }
 ],
 "metadata": {
  "kernelspec": {
   "display_name": "Python 3 (ipykernel)",
   "language": "python",
   "name": "python3"
  },
  "language_info": {
   "codemirror_mode": {
    "name": "ipython",
    "version": 3
   },
   "file_extension": ".py",
   "mimetype": "text/x-python",
   "name": "python",
   "nbconvert_exporter": "python",
   "pygments_lexer": "ipython3",
   "version": "3.10.8"
  }
 },
 "nbformat": 4,
 "nbformat_minor": 5
}
